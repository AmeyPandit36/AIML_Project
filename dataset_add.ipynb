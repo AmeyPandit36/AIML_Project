{
  "nbformat": 4,
  "nbformat_minor": 0,
  "metadata": {
    "colab": {
      "provenance": []
    },
    "kernelspec": {
      "name": "python3",
      "display_name": "Python 3"
    },
    "language_info": {
      "name": "python"
    }
  },
  "cells": [
    {
      "cell_type": "code",
      "execution_count": 2,
      "metadata": {
        "colab": {
          "base_uri": "https://localhost:8080/"
        },
        "id": "nPCek1U01Qio",
        "outputId": "0bcec7eb-6d6d-4b47-8074-7e151fd53a7a"
      },
      "outputs": [
        {
          "output_type": "stream",
          "name": "stdout",
          "text": [
            "Drive already mounted at /content/drive; to attempt to forcibly remount, call drive.mount(\"/content/drive\", force_remount=True).\n"
          ]
        }
      ],
      "source": [
        "from google.colab import drive\n",
        "drive.mount('/content/drive')"
      ]
    },
    {
      "cell_type": "code",
      "source": [
        "import kagglehub\n",
        "\n",
        "# Download latest version\n",
        "path = kagglehub.dataset_download(\"viditgandhi/tree-species-identification-dataset\")\n",
        "\n",
        "print(\"Path to dataset files:\", path)\n"
      ],
      "metadata": {
        "colab": {
          "base_uri": "https://localhost:8080/"
        },
        "id": "OqqmYj165A06",
        "outputId": "a036e730-b981-43e6-f4ed-791479796bcf"
      },
      "execution_count": 5,
      "outputs": [
        {
          "output_type": "stream",
          "name": "stdout",
          "text": [
            "Path to dataset files: /kaggle/input/tree-species-identification-dataset\n"
          ]
        }
      ]
    },
    {
      "cell_type": "code",
      "source": [
        "import shutil\n",
        "import os\n",
        "\n",
        "# Define the source path (where the dataset is downloaded)\n",
        "source_path = '/kaggle/input/tree-species-identification-dataset/Tree_Species_Dataset'\n",
        "\n",
        "# Define the destination path (replace with your desired path)\n",
        "destination_path = '/content/drive/MyDrive/Trees Classification Project/dataset'\n",
        "\n",
        "# Use shutil.copytree() to copy the directory\n",
        "try:\n",
        "    # Ensure the destination directory exists\n",
        "    os.makedirs(destination_path, exist_ok=True)\n",
        "    shutil.copytree(source_path, destination_path, dirs_exist_ok=True)\n",
        "    print(f\"Dataset copied successfully from {source_path} to {destination_path}\")\n",
        "except shutil.Error as e:\n",
        "    print(f\"Error copying dataset: {e}\")\n",
        "except FileNotFoundError:\n",
        "    print(f\"Source directory not found: {source_path}\")"
      ],
      "metadata": {
        "id": "TfBunKKnLgti",
        "colab": {
          "base_uri": "https://localhost:8080/"
        },
        "outputId": "5573725b-009f-479f-87bf-eaac6a4dedbf"
      },
      "execution_count": 8,
      "outputs": [
        {
          "output_type": "stream",
          "name": "stdout",
          "text": [
            "Dataset copied successfully from /kaggle/input/tree-species-identification-dataset/Tree_Species_Dataset to /content/drive/MyDrive/Trees Classification Project/dataset\n"
          ]
        }
      ]
    }
  ]
}